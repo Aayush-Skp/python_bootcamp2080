{
 "cells": [
  {
   "cell_type": "markdown",
   "id": "7cf945a1",
   "metadata": {},
   "source": [
    "# #Assignment Questions ( Day-2 )\n",
    "Make Notebook and make these modules\n",
    "- Find out if a number is Prime number or not.\n",
    "- Find out the prime numbers in a given range\n",
    "- Find out the odd numbers from given range\n",
    "- FInd out if number is odd or not\n",
    "- find out the even number from given range\n",
    "- find out if the number is even or not\n",
    "- find the Factorial of the number\n",
    " Note: make different cell for every string method combinations\n",
    " \n",
    "- Var[2:8] will it ending index is included in the o/p or not\n",
    "- difference: List Vs Tuple\n",
    "- when to use list and when to use tuple\n",
    "- difference between parameter and arguments"
   ]
  },
  {
   "cell_type": "code",
   "execution_count": null,
   "id": "8c81d805",
   "metadata": {},
   "outputs": [],
   "source": []
  }
 ],
 "metadata": {
  "kernelspec": {
   "display_name": "Python 3 (ipykernel)",
   "language": "python",
   "name": "python3"
  },
  "language_info": {
   "codemirror_mode": {
    "name": "ipython",
    "version": 3
   },
   "file_extension": ".py",
   "mimetype": "text/x-python",
   "name": "python",
   "nbconvert_exporter": "python",
   "pygments_lexer": "ipython3",
   "version": "3.11.5"
  }
 },
 "nbformat": 4,
 "nbformat_minor": 5
}
