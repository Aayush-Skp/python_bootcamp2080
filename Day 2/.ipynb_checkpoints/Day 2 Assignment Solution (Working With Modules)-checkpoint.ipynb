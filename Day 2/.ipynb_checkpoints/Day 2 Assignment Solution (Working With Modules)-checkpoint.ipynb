{
 "cells": [
  {
   "cell_type": "code",
   "execution_count": 1,
   "id": "42774505",
   "metadata": {},
   "outputs": [
    {
     "data": {
      "text/plain": [
       "[11, 13, 17, 19]"
      ]
     },
     "execution_count": 1,
     "metadata": {},
     "output_type": "execute_result"
    }
   ],
   "source": [
    "#Checking the prime number or not and finding prime numbers in range\n",
    "import prime\n",
    "prime.checkprime(9)\n",
    "prime.primerange(10,20)"
   ]
  },
  {
   "cell_type": "code",
   "execution_count": 2,
   "id": "55ff405a",
   "metadata": {},
   "outputs": [
    {
     "data": {
      "text/plain": [
       "[2, 4, 6, 8, 10, 12, 14, 16, 18, 20, 22, 24, 26, 28]"
      ]
     },
     "execution_count": 2,
     "metadata": {},
     "output_type": "execute_result"
    }
   ],
   "source": [
    "#Checking the even number or not and finding even numbers in range\n",
    "import even\n",
    "even.checkeven(11)\n",
    "even.evenrange(2,30)"
   ]
  },
  {
   "cell_type": "code",
   "execution_count": 3,
   "id": "a606c8ab",
   "metadata": {},
   "outputs": [
    {
     "data": {
      "text/plain": [
       "[1, 3, 5, 7, 9, 11, 13, 15, 17, 19]"
      ]
     },
     "execution_count": 3,
     "metadata": {},
     "output_type": "execute_result"
    }
   ],
   "source": [
    "#Checking the odd number or not and finding odd numbers in range\n",
    "import odd\n",
    "odd.checkodd(11)\n",
    "odd.oddrange(1,20)"
   ]
  },
  {
   "cell_type": "code",
   "execution_count": 4,
   "id": "a9a635cb",
   "metadata": {},
   "outputs": [
    {
     "data": {
      "text/plain": [
       "120"
      ]
     },
     "execution_count": 4,
     "metadata": {},
     "output_type": "execute_result"
    }
   ],
   "source": [
    "# finding factorial of the number\n",
    "import factorial\n",
    "factorial.factorial(5)"
   ]
  },
  {
   "cell_type": "markdown",
   "id": "57ac7bb2",
   "metadata": {},
   "source": [
    "<h2 style=\"text-align:center\">\n",
    "    Qn.Difference:\n",
    "    List vs Tuple</h2>\n",
    "\n",
    "<table>\n",
    "    <tr>\n",
    "        <th>Property</th>\n",
    "        <th>List</th>\n",
    "        <th>Tuple</th>\n",
    "    </tr>\n",
    "    <tr>\n",
    "        <td>Mutable</td>\n",
    "        <td>Yes</td>\n",
    "        <td>No</td>\n",
    "    </tr>\n",
    "    <tr>\n",
    "        <td>Performance</td>\n",
    "        <td>Slower</td>\n",
    "        <td>Faster</td>\n",
    "    </tr>\n",
    "    <tr>\n",
    "        <td>Usage</td>\n",
    "        <td>When elements need to be modified frequently</td>\n",
    "        <td>When data shouldn't be changed (e.g., constants)</td>\n",
    "    </tr>\n",
    "</table>\n"
   ]
  },
  {
   "cell_type": "code",
   "execution_count": 5,
   "id": "9585e208",
   "metadata": {},
   "outputs": [
    {
     "name": "stdout",
     "output_type": "stream",
     "text": [
      "My list: [1, 2, 3, 4, 5]\n"
     ]
    },
    {
     "data": {
      "text/plain": [
       "'\\nList: A list can be used to represent the inventory of products in a supermarket where items\\ncan be added, removed, or modified.\\n'"
      ]
     },
     "execution_count": 5,
     "metadata": {},
     "output_type": "execute_result"
    }
   ],
   "source": [
    "mylist = [1, 2, 3, 4, 5]\n",
    "print(\"My list:\", mylist)\n",
    "\n",
    "\"\"\"\n",
    "List: A list can be used to represent the inventory of products in a supermarket where items\n",
    "can be added, removed, or modified.\n",
    "\"\"\"\n"
   ]
  },
  {
   "cell_type": "code",
   "execution_count": 6,
   "id": "61a56408",
   "metadata": {},
   "outputs": [
    {
     "name": "stdout",
     "output_type": "stream",
     "text": [
      "My tuple: (1, 2, 3, 4, 5)\n"
     ]
    },
    {
     "data": {
      "text/plain": [
       "'\\nTuple: A tuple can be used to represent the fixed attributes of a product, such as its name,\\ncategory, and price. Once a product is added to the inventory, its attributes typically remain \\nunchanged, making tuples suitable for representing product details.\\n'"
      ]
     },
     "execution_count": 6,
     "metadata": {},
     "output_type": "execute_result"
    }
   ],
   "source": [
    "mytuple = (1, 2, 3, 4, 5)\n",
    "print(\"My tuple:\", mytuple)\n",
    "\n",
    "\"\"\"\n",
    "Tuple: A tuple can be used to represent the fixed attributes of a product, such as its name,\n",
    "category, and price. Once a product is added to the inventory, its attributes typically remain \n",
    "unchanged, making tuples suitable for representing product details.\n",
    "\"\"\""
   ]
  },
  {
   "cell_type": "markdown",
   "id": "9983afb2",
   "metadata": {},
   "source": [
    "### Function definition with parameters\n",
    "def greet(name):<br>\n",
    "    &emsp;&emsp;&emsp;&emsp;&emsp;return f\"Hello, {name}!\"\n",
    "\n",
    "### Function call with arguments\n",
    "message = greet(\"Alice\")\n",
    "\n",
    "### Displaying the message\n",
    "print(message)"
   ]
  }
 ],
 "metadata": {
  "kernelspec": {
   "display_name": "Python 3 (ipykernel)",
   "language": "python",
   "name": "python3"
  },
  "language_info": {
   "codemirror_mode": {
    "name": "ipython",
    "version": 3
   },
   "file_extension": ".py",
   "mimetype": "text/x-python",
   "name": "python",
   "nbconvert_exporter": "python",
   "pygments_lexer": "ipython3",
   "version": "3.11.5"
  }
 },
 "nbformat": 4,
 "nbformat_minor": 5
}
