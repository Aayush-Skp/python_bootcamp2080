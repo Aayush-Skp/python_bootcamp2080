{
 "cells": [
  {
   "cell_type": "markdown",
   "id": "c4368541",
   "metadata": {},
   "source": [
    "### Numpy Lib Fundamentals\n",
    "* It provides ndarray, a homogeneous n-dimensional array object, with methods to efficiently operate on it.\n",
    "* While a Python list can contain different data types within a single list, all of the elements in a NumPy array should be homogeneous."
   ]
  },
  {
   "cell_type": "code",
   "execution_count": null,
   "id": "619b98a6",
   "metadata": {},
   "outputs": [],
   "source": [
    "import numpy as np \n",
    "print(np)"
   ]
  },
  {
   "cell_type": "code",
   "execution_count": null,
   "id": "a6c2f33d",
   "metadata": {},
   "outputs": [],
   "source": [
    "np1= np.array([[2,4,5,6,7,9],[3,4,5,6,4,3]])\n",
    "np1"
   ]
  },
  {
   "cell_type": "code",
   "execution_count": null,
   "id": "8d5ff6a1",
   "metadata": {},
   "outputs": [],
   "source": [
    "#one dimensional array\n",
    "oned = np.array([2,6,3,2,5,7,3])\n",
    "oned[5]"
   ]
  },
  {
   "cell_type": "code",
   "execution_count": null,
   "id": "bb19597a",
   "metadata": {},
   "outputs": [],
   "source": [
    "#two dimensional array\n",
    "twod = np.array([[2,3,8,65],[4,7,2,4]])\n",
    "twod[1][3]"
   ]
  },
  {
   "cell_type": "code",
   "execution_count": null,
   "id": "876f2f98",
   "metadata": {},
   "outputs": [],
   "source": [
    "#zeros\n",
    "var1 = np.ones(5)\n",
    "var1"
   ]
  },
  {
   "cell_type": "code",
   "execution_count": null,
   "id": "ff8f563e",
   "metadata": {},
   "outputs": [],
   "source": [
    "np.zeros(3)"
   ]
  },
  {
   "cell_type": "code",
   "execution_count": null,
   "id": "073c516a",
   "metadata": {},
   "outputs": [],
   "source": [
    "np.empty(3)"
   ]
  },
  {
   "cell_type": "code",
   "execution_count": null,
   "id": "1acf47f4",
   "metadata": {},
   "outputs": [],
   "source": [
    "array1=np.arange(10,30,2)\n",
    "array1"
   ]
  },
  {
   "cell_type": "code",
   "execution_count": null,
   "id": "7f4c400e",
   "metadata": {},
   "outputs": [],
   "source": [
    "type(array1)"
   ]
  },
  {
   "cell_type": "code",
   "execution_count": null,
   "id": "98a5df58",
   "metadata": {},
   "outputs": [],
   "source": [
    "arr1= np.array([2,3,4,2,2])\n",
    "arr2= np.array([52,33,23,2])\n",
    "arr3= np.concatenate((arr1,arr2))\n",
    "#Qn. Why we need twp brackets here\n",
    "print(arr3)\n",
    "shortarr= np.sort(arr2)\n",
    "print(shortarr)"
   ]
  },
  {
   "cell_type": "code",
   "execution_count": null,
   "id": "1561362f",
   "metadata": {},
   "outputs": [],
   "source": [
    "threed = np.array([\n",
    "                   [[3,4,9],[6,3,2]],\n",
    "                   [[2,4,6],[5,7,10]],\n",
    "                   [[2,3,5],[4,2,3]]\n",
    "                  ])\n",
    "print(threed.shape)\n",
    "threed.size\n",
    "threed.ndim\n",
    "arr5 = threed.reshape(6,3)\n",
    "arr5"
   ]
  },
  {
   "cell_type": "code",
   "execution_count": null,
   "id": "1f62f207",
   "metadata": {},
   "outputs": [],
   "source": [
    "#to save arrays in file and load it\n",
    "tosave = np.array([2,3,4,32,4,2,3])\n",
    "np.save(\"myarray\", tosave)\n",
    "letssee = np.load(\"myarray.npy\")\n",
    "letssee"
   ]
  },
  {
   "cell_type": "markdown",
   "id": "d8501e1a",
   "metadata": {},
   "source": [
    "### panda fundamentals\n",
    "1. install pandas lib #pip install pandas\n",
    "2. import pandas # import pandas as pd\n",
    "3. create np array\n",
    "4. convert this np array into pd.DataFrame\n",
    "5. save it as CSV -> my_dataframe_name.to_csv(\"__ .csv\")\n",
    "6. read csv into a variable -> read_csv(\"\")"
   ]
  },
  {
   "cell_type": "code",
   "execution_count": null,
   "id": "37ddb42b",
   "metadata": {
    "scrolled": true
   },
   "outputs": [],
   "source": [
    "pip install pandas"
   ]
  },
  {
   "cell_type": "code",
   "execution_count": null,
   "id": "192e5f48",
   "metadata": {},
   "outputs": [],
   "source": [
    "import pandas as pd"
   ]
  },
  {
   "cell_type": "code",
   "execution_count": null,
   "id": "e6088043",
   "metadata": {},
   "outputs": [],
   "source": [
    "myarr8 = np.array([[2,5,3,2,4,1],[4,12,12,42,42,3]])"
   ]
  },
  {
   "cell_type": "code",
   "execution_count": null,
   "id": "7f6fcdb9",
   "metadata": {},
   "outputs": [],
   "source": [
    "mydf=pd.DataFrame(myarr8,columns=[\"a\",\"b\",\"c\",\"d\",\"e\",\"f\"])\n",
    "mydf"
   ]
  },
  {
   "cell_type": "code",
   "execution_count": null,
   "id": "bf86de12",
   "metadata": {},
   "outputs": [],
   "source": [
    "mydf.to_csv(\"myfile1.csv\")"
   ]
  },
  {
   "cell_type": "code",
   "execution_count": null,
   "id": "74b99c25",
   "metadata": {},
   "outputs": [],
   "source": [
    "myloadedfile= pd.read_csv(\"myfile1.csv\")\n",
    "myloadedfile"
   ]
  },
  {
   "cell_type": "markdown",
   "id": "1f45b26f",
   "metadata": {},
   "source": [
    "### AI/ML\n",
    "what is\n",
    "* ai vs ml vs dl\n",
    "* al/ml domains\n",
    "* ml domains\n",
    "   1. computer vision(CV) data set - > image,video\n",
    "   2. natural language processing -> audio, text\n",
    "   3. statistical data -> records ( stored in the form of excel, csv)\n",
    "* ml ways\n",
    "* xyz things\n",
    "* automation vs ai\n",
    "   \n"
   ]
  },
  {
   "cell_type": "code",
   "execution_count": null,
   "id": "b1b5e8f4",
   "metadata": {},
   "outputs": [],
   "source": []
  }
 ],
 "metadata": {
  "kernelspec": {
   "display_name": "Python 3 (ipykernel)",
   "language": "python",
   "name": "python3"
  },
  "language_info": {
   "codemirror_mode": {
    "name": "ipython",
    "version": 3
   },
   "file_extension": ".py",
   "mimetype": "text/x-python",
   "name": "python",
   "nbconvert_exporter": "python",
   "pygments_lexer": "ipython3",
   "version": "3.11.5"
  }
 },
 "nbformat": 4,
 "nbformat_minor": 5
}
