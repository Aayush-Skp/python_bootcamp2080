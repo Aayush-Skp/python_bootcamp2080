{
 "cells": [
  {
   "cell_type": "markdown",
   "id": "4c8b7e84",
   "metadata": {},
   "source": [
    "# #Assignment ( Day-2 )\n",
    "Make Notebook and make these modules\n",
    "1-Find out if a number is Prime number or not.\n",
    "2- Find out the prime numbers in a given range\n",
    "3- Find out the odd numbers from given range\n",
    "4- FInd out if number is odd or not\n",
    "5- find out the even number from given range\n",
    "6- find out if the number is even or not\n",
    "7- Factorail \n",
    " Note: make different cell for every string method combinations\n",
    " \n",
    " 8-  Var[2:8] will it ending index is included in the o/p or not\n",
    " 9- difference: List Vs Tuple\n",
    " 10- when to use list and when to use tuple\n",
    " 11- difference between parameter and arguments\n",
    " \n",
    " "
   ]
  }
 ],
 "metadata": {
  "kernelspec": {
   "display_name": "Python 3 (ipykernel)",
   "language": "python",
   "name": "python3"
  },
  "language_info": {
   "codemirror_mode": {
    "name": "ipython",
    "version": 3
   },
   "file_extension": ".py",
   "mimetype": "text/x-python",
   "name": "python",
   "nbconvert_exporter": "python",
   "pygments_lexer": "ipython3",
   "version": "3.11.5"
  }
 },
 "nbformat": 4,
 "nbformat_minor": 5
}
