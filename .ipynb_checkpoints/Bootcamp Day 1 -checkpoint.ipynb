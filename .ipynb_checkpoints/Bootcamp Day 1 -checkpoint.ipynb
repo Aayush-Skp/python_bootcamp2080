{
 "cells": [
  {
   "cell_type": "code",
   "execution_count": 1,
   "id": "ca298440",
   "metadata": {},
   "outputs": [
    {
     "ename": "KeyError",
     "evalue": "'num1'",
     "output_type": "error",
     "traceback": [
      "\u001b[1;31m---------------------------------------------------------------------------\u001b[0m",
      "\u001b[1;31mKeyError\u001b[0m                                  Traceback (most recent call last)",
      "Cell \u001b[1;32mIn[1], line 11\u001b[0m\n\u001b[0;32m      8\u001b[0m     \u001b[38;5;28mprint\u001b[39m(\u001b[38;5;124m\"\u001b[39m\u001b[38;5;124mLocal variable value:\u001b[39m\u001b[38;5;124m\"\u001b[39m, num1)  \n\u001b[0;32m      9\u001b[0m     \u001b[38;5;28mprint\u001b[39m(\u001b[38;5;124m\"\u001b[39m\u001b[38;5;124mGlobal variable value:\u001b[39m\u001b[38;5;124m\"\u001b[39m, global_num1) \n\u001b[1;32m---> 11\u001b[0m function1()\n",
      "Cell \u001b[1;32mIn[1], line 7\u001b[0m, in \u001b[0;36mfunction1\u001b[1;34m()\u001b[0m\n\u001b[0;32m      5\u001b[0m \u001b[38;5;28;01mdef\u001b[39;00m \u001b[38;5;21mfunction1\u001b[39m():\n\u001b[0;32m      6\u001b[0m     num1 \u001b[38;5;241m=\u001b[39m \u001b[38;5;241m70\u001b[39m  \n\u001b[1;32m----> 7\u001b[0m     global_num1 \u001b[38;5;241m=\u001b[39m \u001b[38;5;28mglobals\u001b[39m()[\u001b[38;5;124m'\u001b[39m\u001b[38;5;124mnum1\u001b[39m\u001b[38;5;124m'\u001b[39m]  \n\u001b[0;32m      8\u001b[0m     \u001b[38;5;28mprint\u001b[39m(\u001b[38;5;124m\"\u001b[39m\u001b[38;5;124mLocal variable value:\u001b[39m\u001b[38;5;124m\"\u001b[39m, num1)  \n\u001b[0;32m      9\u001b[0m     \u001b[38;5;28mprint\u001b[39m(\u001b[38;5;124m\"\u001b[39m\u001b[38;5;124mGlobal variable value:\u001b[39m\u001b[38;5;124m\"\u001b[39m, global_num1)\n",
      "\u001b[1;31mKeyError\u001b[0m: 'num1'"
     ]
    }
   ],
   "source": [
    "#Use global variable locally with same name\n",
    "\n",
    "num1 = 20 \n",
    "\n",
    "def function1():\n",
    "    num1 = 70  \n",
    "    global_num1 = globals()['num1']  \n",
    "    print(\"Local variable value:\", num1)  \n",
    "    print(\"Global variable value:\", global_num1) \n",
    "\n",
    "function1()\n"
   ]
  },
  {
   "cell_type": "code",
   "execution_count": null,
   "id": "6a789579",
   "metadata": {},
   "outputs": [],
   "source": []
  },
  {
   "cell_type": "code",
   "execution_count": null,
   "id": "b7dce9c0",
   "metadata": {},
   "outputs": [],
   "source": []
  }
 ],
 "metadata": {
  "kernelspec": {
   "display_name": "Python 3 (ipykernel)",
   "language": "python",
   "name": "python3"
  },
  "language_info": {
   "codemirror_mode": {
    "name": "ipython",
    "version": 3
   },
   "file_extension": ".py",
   "mimetype": "text/x-python",
   "name": "python",
   "nbconvert_exporter": "python",
   "pygments_lexer": "ipython3",
   "version": "3.11.5"
  }
 },
 "nbformat": 4,
 "nbformat_minor": 5
}
