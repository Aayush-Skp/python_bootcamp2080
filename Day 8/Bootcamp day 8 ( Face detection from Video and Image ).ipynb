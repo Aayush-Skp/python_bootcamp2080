{
 "cells": [
  {
   "cell_type": "markdown",
   "id": "2a6c35a0",
   "metadata": {},
   "source": [
    "<center><h2>computer vision domain</h2><center>"
   ]
  },
  {
   "cell_type": "code",
   "execution_count": 1,
   "id": "116ded85",
   "metadata": {},
   "outputs": [],
   "source": [
    "import cv2 as cv  #Importing opencv "
   ]
  },
  {
   "cell_type": "code",
   "execution_count": 28,
   "id": "cc54703c",
   "metadata": {},
   "outputs": [],
   "source": [
    "#How to verify if opencv is installed properly\n",
    "img = cv.imread(\"Grouppic.jpg\")  #Reading the image\n",
    "cv.imshow(\"Display window\", img)  \n",
    "cv.waitKey(0)\n",
    "cv.destroyAllWindows()"
   ]
  },
  {
   "cell_type": "code",
   "execution_count": 3,
   "id": "1a60abb1",
   "metadata": {},
   "outputs": [
    {
     "data": {
      "text/plain": [
       "array([[[144, 137, 144],\n",
       "        [144, 137, 144],\n",
       "        [144, 137, 144],\n",
       "        ...,\n",
       "        [179, 160, 147],\n",
       "        [176, 160, 147],\n",
       "        [176, 160, 148]],\n",
       "\n",
       "       [[145, 138, 145],\n",
       "        [144, 137, 144],\n",
       "        [144, 137, 144],\n",
       "        ...,\n",
       "        [179, 160, 147],\n",
       "        [176, 160, 147],\n",
       "        [176, 160, 148]],\n",
       "\n",
       "       [[145, 138, 145],\n",
       "        [145, 138, 145],\n",
       "        [145, 138, 145],\n",
       "        ...,\n",
       "        [179, 160, 147],\n",
       "        [176, 160, 147],\n",
       "        [176, 160, 148]],\n",
       "\n",
       "       ...,\n",
       "\n",
       "       [[ 13,  13,  13],\n",
       "        [ 14,  14,  14],\n",
       "        [ 14,  14,  14],\n",
       "        ...,\n",
       "        [125, 148, 150],\n",
       "        [128, 149, 151],\n",
       "        [130, 149, 152]],\n",
       "\n",
       "       [[ 14,  14,  14],\n",
       "        [ 14,  14,  14],\n",
       "        [ 14,  14,  14],\n",
       "        ...,\n",
       "        [127, 148, 150],\n",
       "        [129, 148, 151],\n",
       "        [132, 149, 152]],\n",
       "\n",
       "       [[ 14,  14,  14],\n",
       "        [ 14,  14,  14],\n",
       "        [ 15,  15,  15],\n",
       "        ...,\n",
       "        [128, 147, 150],\n",
       "        [131, 148, 151],\n",
       "        [134, 149, 152]]], dtype=uint8)"
      ]
     },
     "execution_count": 3,
     "metadata": {},
     "output_type": "execute_result"
    }
   ],
   "source": [
    "img"
   ]
  },
  {
   "cell_type": "code",
   "execution_count": 4,
   "id": "42e5702d",
   "metadata": {},
   "outputs": [
    {
     "data": {
      "text/plain": [
       "(701, 1163, 3)"
      ]
     },
     "execution_count": 4,
     "metadata": {},
     "output_type": "execute_result"
    }
   ],
   "source": [
    "img.shape"
   ]
  },
  {
   "cell_type": "code",
   "execution_count": 29,
   "id": "c83908e7",
   "metadata": {},
   "outputs": [],
   "source": [
    "gray_image= cv.cvtColor(img, cv.COLOR_BGR2GRAY)   # Converting to grayscale "
   ]
  },
  {
   "cell_type": "code",
   "execution_count": 6,
   "id": "cf71c232",
   "metadata": {},
   "outputs": [
    {
     "data": {
      "text/plain": [
       "array([[140, 140, 140, ..., 158, 158, 158],\n",
       "       [141, 140, 140, ..., 158, 158, 158],\n",
       "       [141, 141, 141, ..., 158, 158, 158],\n",
       "       ...,\n",
       "       [ 13,  14,  14, ..., 146, 147, 148],\n",
       "       [ 14,  14,  14, ..., 146, 147, 148],\n",
       "       [ 14,  14,  15, ..., 146, 147, 148]], dtype=uint8)"
      ]
     },
     "execution_count": 6,
     "metadata": {},
     "output_type": "execute_result"
    }
   ],
   "source": [
    "gray_image"
   ]
  },
  {
   "cell_type": "code",
   "execution_count": null,
   "id": "520f3bc2",
   "metadata": {},
   "outputs": [],
   "source": [
    "cv.imshow(\"Display window\", gray_image)  \n",
    "cv.waitKey(0)\n",
    "cv.destroyAllWindows()"
   ]
  },
  {
   "cell_type": "code",
   "execution_count": 8,
   "id": "afc37d40",
   "metadata": {},
   "outputs": [],
   "source": [
    "face_classifier = cv.CascadeClassifier(\n",
    "cv.data.haarcascades+\"haarcascade_frontalface_default.xml\"\n",
    ")"
   ]
  },
  {
   "cell_type": "code",
   "execution_count": 47,
   "id": "92cb439f",
   "metadata": {},
   "outputs": [],
   "source": [
    "face = face_classifier.detectMultiScale(\n",
    "gray_image, scaleFactor= 1.1, minNeighbors= 5, minSize=(40,40)\n",
    ")"
   ]
  },
  {
   "cell_type": "code",
   "execution_count": 48,
   "id": "4acca73b",
   "metadata": {},
   "outputs": [
    {
     "name": "stdout",
     "output_type": "stream",
     "text": [
      "[[916 269 100 100]\n",
      " [802 375 101 101]]\n"
     ]
    }
   ],
   "source": [
    "print(face)"
   ]
  },
  {
   "cell_type": "code",
   "execution_count": 49,
   "id": "ab954936",
   "metadata": {},
   "outputs": [],
   "source": [
    "#Lets perform face detection"
   ]
  },
  {
   "cell_type": "code",
   "execution_count": 50,
   "id": "dc86bdfc",
   "metadata": {},
   "outputs": [],
   "source": [
    "for (x,y,w,h) in face:\n",
    "    cv.rectangle(img, (x,y), (x+w, y+h),(0,255,0),4)"
   ]
  },
  {
   "cell_type": "code",
   "execution_count": 51,
   "id": "f1cbfc3c",
   "metadata": {},
   "outputs": [],
   "source": [
    "img_rgb= cv.cvtColor(img, cv.COLOR_BGR2RGB)"
   ]
  },
  {
   "cell_type": "code",
   "execution_count": 52,
   "id": "7e28f34e",
   "metadata": {},
   "outputs": [],
   "source": [
    "cv.imshow(\"Display window\", img_rgb)  \n",
    "cv.waitKey(0)\n",
    "cv.destroyAllWindows()"
   ]
  },
  {
   "cell_type": "markdown",
   "id": "532fbb9a",
   "metadata": {},
   "source": [
    "## Detecting Face from video"
   ]
  },
  {
   "cell_type": "code",
   "execution_count": 1,
   "id": "b5126632",
   "metadata": {},
   "outputs": [],
   "source": [
    "import cv2 as cv"
   ]
  },
  {
   "cell_type": "code",
   "execution_count": 2,
   "id": "9315abde",
   "metadata": {},
   "outputs": [],
   "source": [
    "face_classifier = cv.CascadeClassifier(\n",
    "cv.data.haarcascades+\"haarcascade_frontalface_default.xml\"\n",
    ")"
   ]
  },
  {
   "cell_type": "code",
   "execution_count": 3,
   "id": "a20e05d1",
   "metadata": {},
   "outputs": [],
   "source": [
    "#Access the Webcame"
   ]
  },
  {
   "cell_type": "code",
   "execution_count": 4,
   "id": "91519bb8",
   "metadata": {},
   "outputs": [],
   "source": [
    "video_capture = cv.VideoCapture(0)"
   ]
  },
  {
   "cell_type": "code",
   "execution_count": 5,
   "id": "4c52a94c",
   "metadata": {},
   "outputs": [],
   "source": [
    "def detect_bounding_box(vid):\n",
    "    gray_image = cv.cvtColor(vid, cv.COLOR_BGR2GRAY)\n",
    "    faces= face_classifier.detectMultiScale(gray_image, 1.1, 5, minSize=(40,40))\n",
    "    for(x,y,w,h) in faces:\n",
    "        cv.rectangle(vid, (x,y), (x+w, y+h), (0,255,0),4)\n",
    "        return faces"
   ]
  },
  {
   "cell_type": "code",
   "execution_count": 6,
   "id": "b9daadda",
   "metadata": {
    "scrolled": true
   },
   "outputs": [],
   "source": [
    "while True:\n",
    "    result, video_frame = video_capture.read()\n",
    "    if result is False:\n",
    "        break\n",
    "    \n",
    "    faces = detect_bounding_box(\n",
    "    video_frame\n",
    "    )\n",
    "    \n",
    "    cv.imshow(\n",
    "    \"My Face Detection Project\", video_frame\n",
    "    )\n",
    "    \n",
    "    if cv.waitKey(1) & 0xFF == ord(\"q\"):\n",
    "        break\n",
    "video_capture.release()\n",
    "#cv.waitKey(0)\n",
    "cv.destroyAllWindows()"
   ]
  },
  {
   "cell_type": "markdown",
   "id": "0842dfb2",
   "metadata": {},
   "source": [
    "# From photo"
   ]
  },
  {
   "cell_type": "code",
   "execution_count": 7,
   "id": "372aa30e",
   "metadata": {},
   "outputs": [
    {
     "name": "stdout",
     "output_type": "stream",
     "text": [
      "Enter the path of the image file: C:\\Users\\rocke\\Favorites\\Python Bootcamp\\Day 8\\Grouppic.jpg\n"
     ]
    }
   ],
   "source": [
    "import cv2 as cv\n",
    "import numpy as np\n",
    "\n",
    "def upload_and_recognize():\n",
    "    \"\"\"\n",
    "    Function to upload a photo, detect faces, and display the image with recognized faces highlighted.\n",
    "\n",
    "    Returns:\n",
    "        None\n",
    "    \"\"\"\n",
    "    # Upload a photo\n",
    "    img_path = input(\"Enter the path of the image file: \")\n",
    "    img = cv.imread(img_path)\n",
    "\n",
    "    # Check if the image is loaded successfully\n",
    "    if img is None:\n",
    "        print(\"Error: Unable to load the image.\")\n",
    "        return\n",
    "\n",
    "    # Display the original image\n",
    "    cv.imshow(\"Original Image\", img)\n",
    "    cv.waitKey(0)\n",
    "\n",
    "    # Convert the image to grayscale\n",
    "    gray_image = cv.cvtColor(img, cv.COLOR_BGR2GRAY)\n",
    "\n",
    "    # Load the pre-trained face cascade classifier\n",
    "    face_cascade = cv.CascadeClassifier(cv.data.haarcascades + \"haarcascade_frontalface_default.xml\")\n",
    "\n",
    "    # Detect faces in the grayscale image\n",
    "    faces = face_cascade.detectMultiScale(gray_image, scaleFactor=1.1, minNeighbors=5, minSize=(30, 30))\n",
    "\n",
    "    # Draw rectangles around the detected faces and display the image\n",
    "    for (x, y, w, h) in faces:\n",
    "        cv.rectangle(img, (x, y), (x + w, y + h), (255, 0, 0), 2)\n",
    "\n",
    "    # Display the image with detected faces\n",
    "    cv.imshow(\"Detected Faces\", img)\n",
    "    cv.waitKey(0)\n",
    "\n",
    "    # Close all OpenCV windows\n",
    "    cv.destroyAllWindows()\n",
    "\n",
    "# Call the function to upload and recognize faces in the photo\n",
    "upload_and_recognize()\n"
   ]
  },
  {
   "cell_type": "code",
   "execution_count": null,
   "id": "7a9a2aef",
   "metadata": {},
   "outputs": [],
   "source": []
  }
 ],
 "metadata": {
  "kernelspec": {
   "display_name": "Python 3 (ipykernel)",
   "language": "python",
   "name": "python3"
  },
  "language_info": {
   "codemirror_mode": {
    "name": "ipython",
    "version": 3
   },
   "file_extension": ".py",
   "mimetype": "text/x-python",
   "name": "python",
   "nbconvert_exporter": "python",
   "pygments_lexer": "ipython3",
   "version": "3.11.5"
  }
 },
 "nbformat": 4,
 "nbformat_minor": 5
}
