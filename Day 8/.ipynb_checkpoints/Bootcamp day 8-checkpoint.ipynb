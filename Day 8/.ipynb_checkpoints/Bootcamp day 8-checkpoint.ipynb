{
 "cells": [
  {
   "cell_type": "markdown",
   "id": "9b6878c7",
   "metadata": {},
   "source": [
    "<center><h2>computer vision domain</h2><center>"
   ]
  },
  {
   "cell_type": "code",
   "execution_count": 1,
   "id": "878c1b5e",
   "metadata": {},
   "outputs": [],
   "source": [
    "import cv2 as cv  #Importing opencv "
   ]
  },
  {
   "cell_type": "code",
   "execution_count": 2,
   "id": "fa628df8",
   "metadata": {},
   "outputs": [],
   "source": [
    "#How to verify if opencv is installed properly\n",
    "img = cv.imread(\"Grouppic.jpg\")  #Reading the image\n",
    "cv.imshow(\"Display window\", img)  \n",
    "cv.waitKey(0)\n",
    "cv.destroyAllWindows()"
   ]
  },
  {
   "cell_type": "code",
   "execution_count": 3,
   "id": "7e1443d2",
   "metadata": {},
   "outputs": [
    {
     "data": {
      "text/plain": [
       "array([[[144, 137, 144],\n",
       "        [144, 137, 144],\n",
       "        [144, 137, 144],\n",
       "        ...,\n",
       "        [179, 160, 147],\n",
       "        [176, 160, 147],\n",
       "        [176, 160, 148]],\n",
       "\n",
       "       [[145, 138, 145],\n",
       "        [144, 137, 144],\n",
       "        [144, 137, 144],\n",
       "        ...,\n",
       "        [179, 160, 147],\n",
       "        [176, 160, 147],\n",
       "        [176, 160, 148]],\n",
       "\n",
       "       [[145, 138, 145],\n",
       "        [145, 138, 145],\n",
       "        [145, 138, 145],\n",
       "        ...,\n",
       "        [179, 160, 147],\n",
       "        [176, 160, 147],\n",
       "        [176, 160, 148]],\n",
       "\n",
       "       ...,\n",
       "\n",
       "       [[ 13,  13,  13],\n",
       "        [ 14,  14,  14],\n",
       "        [ 14,  14,  14],\n",
       "        ...,\n",
       "        [125, 148, 150],\n",
       "        [128, 149, 151],\n",
       "        [130, 149, 152]],\n",
       "\n",
       "       [[ 14,  14,  14],\n",
       "        [ 14,  14,  14],\n",
       "        [ 14,  14,  14],\n",
       "        ...,\n",
       "        [127, 148, 150],\n",
       "        [129, 148, 151],\n",
       "        [132, 149, 152]],\n",
       "\n",
       "       [[ 14,  14,  14],\n",
       "        [ 14,  14,  14],\n",
       "        [ 15,  15,  15],\n",
       "        ...,\n",
       "        [128, 147, 150],\n",
       "        [131, 148, 151],\n",
       "        [134, 149, 152]]], dtype=uint8)"
      ]
     },
     "execution_count": 3,
     "metadata": {},
     "output_type": "execute_result"
    }
   ],
   "source": [
    "img"
   ]
  },
  {
   "cell_type": "code",
   "execution_count": 4,
   "id": "ccd6a658",
   "metadata": {},
   "outputs": [
    {
     "data": {
      "text/plain": [
       "(701, 1163, 3)"
      ]
     },
     "execution_count": 4,
     "metadata": {},
     "output_type": "execute_result"
    }
   ],
   "source": [
    "img.shape"
   ]
  },
  {
   "cell_type": "code",
   "execution_count": 5,
   "id": "de56f7fc",
   "metadata": {},
   "outputs": [],
   "source": [
    "gray_image= cv.cvtColor(img, cv.COLOR_BGR2GRAY)   # Converting to grayscale "
   ]
  },
  {
   "cell_type": "code",
   "execution_count": 6,
   "id": "ad1e2519",
   "metadata": {},
   "outputs": [
    {
     "data": {
      "text/plain": [
       "array([[140, 140, 140, ..., 158, 158, 158],\n",
       "       [141, 140, 140, ..., 158, 158, 158],\n",
       "       [141, 141, 141, ..., 158, 158, 158],\n",
       "       ...,\n",
       "       [ 13,  14,  14, ..., 146, 147, 148],\n",
       "       [ 14,  14,  14, ..., 146, 147, 148],\n",
       "       [ 14,  14,  15, ..., 146, 147, 148]], dtype=uint8)"
      ]
     },
     "execution_count": 6,
     "metadata": {},
     "output_type": "execute_result"
    }
   ],
   "source": [
    "gray_image"
   ]
  },
  {
   "cell_type": "code",
   "execution_count": 15,
   "id": "fae57c33",
   "metadata": {},
   "outputs": [],
   "source": [
    "cv.imshow(\"Display window\", gray_image)  \n",
    "cv.waitKey(3000)\n",
    "cv.destroyAllWindows()"
   ]
  },
  {
   "cell_type": "code",
   "execution_count": null,
   "id": "45bb8833",
   "metadata": {},
   "outputs": [],
   "source": []
  },
  {
   "cell_type": "code",
   "execution_count": null,
   "id": "b7a47cee",
   "metadata": {},
   "outputs": [],
   "source": []
  }
 ],
 "metadata": {
  "kernelspec": {
   "display_name": "Python 3 (ipykernel)",
   "language": "python",
   "name": "python3"
  },
  "language_info": {
   "codemirror_mode": {
    "name": "ipython",
    "version": 3
   },
   "file_extension": ".py",
   "mimetype": "text/x-python",
   "name": "python",
   "nbconvert_exporter": "python",
   "pygments_lexer": "ipython3",
   "version": "3.11.5"
  }
 },
 "nbformat": 4,
 "nbformat_minor": 5
}
