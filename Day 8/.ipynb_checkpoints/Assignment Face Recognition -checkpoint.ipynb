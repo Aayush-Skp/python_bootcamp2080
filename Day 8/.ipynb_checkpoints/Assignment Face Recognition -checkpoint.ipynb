{
 "cells": [
  {
   "cell_type": "markdown",
   "id": "de7c3be0",
   "metadata": {},
   "source": [
    "<center><h1>Assignment: </h1><h2> Face Recognition </h2><center>"
   ]
  },
  {
   "cell_type": "markdown",
   "id": "b66f91b0",
   "metadata": {},
   "source": [
    "### Importing all Necessary models"
   ]
  },
  {
   "cell_type": "code",
   "execution_count": 7,
   "id": "4f088956",
   "metadata": {},
   "outputs": [],
   "source": [
    "import cv2 as cv\n",
    "import os        # provides a way to interact with the operating system, such as working with files and directories\n",
    "import shutil    #provides functions for file operations, including copying and removing files"
   ]
  },
  {
   "cell_type": "markdown",
   "id": "30717f19",
   "metadata": {},
   "source": [
    "### Take Face Samples"
   ]
  },
  {
   "cell_type": "markdown",
   "id": "eef236e8",
   "metadata": {},
   "source": [
    "<div class=\"alert alert-block alert-info\">\n",
    "<b>Function:</b>capture face samples from a live video stream.\n",
    "<br>Parameters:\n",
    "      <br>  num_samples (int): Number of samples to capture per person.\n",
    "      <br>  output_dir (str): Directory to save captured images.\n",
    "</div>"
   ]
  },
  {
   "cell_type": "code",
   "execution_count": 8,
   "id": "74f72792",
   "metadata": {},
   "outputs": [],
   "source": [
    "def capture_images_from_video(num_samples, output_dir):\n",
    "    video_capture = cv.VideoCapture(0)    # Initialize the camera\n",
    "    \n",
    "    samples_count = 0 # Counter for samples captured\n",
    "\n",
    "    person_name = input(\"Enter the name of the person: \")   #Prompt for the name of the person\n",
    "\n",
    "    person_dir = os.path.join(output_dir, person_name)   #Check if a folder with the same name already exists\n",
    "    if os.path.exists(person_dir):\n",
    "        replace = input(f\"A folder with the name '{person_name}' already exists. Do you want to replace its contents? (y/n): \")\n",
    "        if replace.lower() == 'y':\n",
    "            \n",
    "            shutil.rmtree(person_dir) #Remove the existing folder and its contents\n",
    "        else:\n",
    "            print(\"Exiting...\")\n",
    "            return"
   ]
  },
  {
   "cell_type": "code",
   "execution_count": 9,
   "id": "80a9c4bc",
   "metadata": {},
   "outputs": [],
   "source": [
    "os.makedirs(person_dir)    # Create a new folder with the person's name to store the images"
   ]
  },
  {
   "cell_type": "code",
   "execution_count": 10,
   "id": "8ec283cc",
   "metadata": {},
   "outputs": [],
   "source": [
    "# Haar cascade classifier for face detection\n",
    "face_cascade = cv.CascadeClassifier(cv.data.haarcascades + \"haarcascade_frontalface_default.xml\")     "
   ]
  },
  {
   "cell_type": "code",
   "execution_count": null,
   "id": "556f5840",
   "metadata": {},
   "outputs": [],
   "source": [
    "# Variable to keep track of time for capturing samples\n",
    "prev_time = 0"
   ]
  },
  {
   "cell_type": "code",
   "execution_count": null,
   "id": "32c71338",
   "metadata": {},
   "outputs": [],
   "source": [
    "# Variable to keep track of time for capturing samples\n",
    "    prev_time = 0\n",
    "\n",
    "    while True:\n",
    "        # Capture frame-by-frame\n",
    "        ret, frame = video_capture.read()\n",
    "\n",
    "        # Convert the frame to grayscale\n",
    "        gray_frame = cv.cvtColor(frame, cv.COLOR_BGR2GRAY)\n",
    "\n",
    "        # Detect faces in the frame\n",
    "        faces = face_cascade.detectMultiScale(gray_frame, scaleFactor=1.1, minNeighbors=5, minSize=(30, 30))\n",
    "\n",
    "        # Draw rectangles around the faces and save only the face images\n",
    "        for (x, y, w, h) in faces:\n",
    "            # Draw rectangle around the face\n",
    "            cv.rectangle(frame, (x, y), (x + w, y + h), (0, 255, 0), 2)\n",
    "\n",
    "            # Capture image when spacebar is held down\n",
    "            if cv.waitKey(1) & 0xFF == ord(' ') and (cv.getTickCount() - prev_time) / cv.getTickFrequency() > 0.3:\n",
    "                # Increment sample count\n",
    "                samples_count += 1\n",
    "\n",
    "                # Save the captured face image\n",
    "                face_image_filename = f'{person_dir}/{samples_count}.jpg'\n",
    "                cv.imwrite(face_image_filename, gray_frame[y:y+h, x:x+w])  # Save only the face image\n",
    "\n",
    "                print(f'Sample {samples_count}/{num_samples} saved as {face_image_filename}')\n",
    "\n",
    "                # Update previous time\n",
    "                prev_time = cv.getTickCount()\n",
    "\n",
    "        # Show the camera screen with boundary boxes\n",
    "        cv.imshow('Capture Images - Press Space to Capture, ESC to Exit', frame)\n",
    "\n",
    "        # Break the loop when the desired number of samples is captured\n",
    "        if samples_count >= num_samples:\n",
    "            break\n",
    "\n",
    "        # Break the loop if ESC key is pressed\n",
    "        if cv.waitKey(1) & 0xFF == 27:\n",
    "            break\n",
    "\n",
    "    # Release the camera and close all OpenCV windows\n",
    "    video_capture.release()\n",
    "    cv.destroyAllWindows()"
   ]
  }
 ],
 "metadata": {
  "kernelspec": {
   "display_name": "Python 3 (ipykernel)",
   "language": "python",
   "name": "python3"
  },
  "language_info": {
   "codemirror_mode": {
    "name": "ipython",
    "version": 3
   },
   "file_extension": ".py",
   "mimetype": "text/x-python",
   "name": "python",
   "nbconvert_exporter": "python",
   "pygments_lexer": "ipython3",
   "version": "3.11.5"
  }
 },
 "nbformat": 4,
 "nbformat_minor": 5
}
