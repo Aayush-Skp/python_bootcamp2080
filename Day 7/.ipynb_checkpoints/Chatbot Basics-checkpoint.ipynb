{
 "cells": [
  {
   "cell_type": "markdown",
   "id": "37595369",
   "metadata": {},
   "source": [
    "<center><h1>Making a ChatBot</h1><center>"
   ]
  },
  {
   "cell_type": "markdown",
   "id": "8bc67b80",
   "metadata": {},
   "source": [
    "Topics:\n",
    "- Cosine similarity/Cosines Algorithm\n",
    "- "
   ]
  },
  {
   "cell_type": "code",
   "execution_count": 3,
   "id": "c44ff502",
   "metadata": {},
   "outputs": [],
   "source": [
    "import nltk   #Natural language tool kit"
   ]
  },
  {
   "cell_type": "code",
   "execution_count": 4,
   "id": "795e45ef",
   "metadata": {},
   "outputs": [],
   "source": [
    "import numpy as np"
   ]
  },
  {
   "cell_type": "code",
   "execution_count": null,
   "id": "eaa97cf9",
   "metadata": {},
   "outputs": [],
   "source": [
    "import nltk # to process text data\n",
    "import numpy as np # to represent corpus as arrays\n",
    "import random \n",
    "import string # to process standard python strings\n",
    "from sklearn.metrics.pairwise import cosine_similarity \n",
    "# We will use this later to decide how similar two sentences are\n",
    "from sklearn.feature_extraction.text import TfidfVectorizer \n",
    "# Remember when you built a function to create a tfidf bag of words in Experience 2? This function does the same thing!"
   ]
  }
 ],
 "metadata": {
  "kernelspec": {
   "display_name": "Python 3 (ipykernel)",
   "language": "python",
   "name": "python3"
  },
  "language_info": {
   "codemirror_mode": {
    "name": "ipython",
    "version": 3
   },
   "file_extension": ".py",
   "mimetype": "text/x-python",
   "name": "python",
   "nbconvert_exporter": "python",
   "pygments_lexer": "ipython3",
   "version": "3.11.5"
  }
 },
 "nbformat": 4,
 "nbformat_minor": 5
}
