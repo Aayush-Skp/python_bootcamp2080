{
 "cells": [
  {
   "cell_type": "markdown",
   "id": "f062e807",
   "metadata": {},
   "source": [
    "### Using global variable locally with same name"
   ]
  },
  {
   "cell_type": "code",
   "execution_count": 2,
   "id": "ca298440",
   "metadata": {},
   "outputs": [
    {
     "name": "stdout",
     "output_type": "stream",
     "text": [
      "Local variable value: 70\n",
      "Global variable value: 20\n"
     ]
    }
   ],
   "source": [
    "#Use global variable locally with same name\n",
    "\n",
    "num1 = 20 \n",
    "\n",
    "def function1():\n",
    "    num1 = 70  \n",
    "    global_num1 = globals()['num1']  \n",
    "    print(\"Local variable value:\", num1)  \n",
    "    print(\"Global variable value:\", global_num1) \n",
    "\n",
    "function1()\n"
   ]
  },
  {
   "cell_type": "code",
   "execution_count": null,
   "id": "1a839962",
   "metadata": {},
   "outputs": [],
   "source": []
  }
 ],
 "metadata": {
  "kernelspec": {
   "display_name": "Python 3 (ipykernel)",
   "language": "python",
   "name": "python3"
  },
  "language_info": {
   "codemirror_mode": {
    "name": "ipython",
    "version": 3
   },
   "file_extension": ".py",
   "mimetype": "text/x-python",
   "name": "python",
   "nbconvert_exporter": "python",
   "pygments_lexer": "ipython3",
   "version": "3.11.5"
  }
 },
 "nbformat": 4,
 "nbformat_minor": 5
}
