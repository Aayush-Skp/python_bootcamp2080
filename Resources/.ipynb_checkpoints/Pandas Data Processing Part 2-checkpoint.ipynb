{
 "cells": [
  {
   "cell_type": "markdown",
   "id": "70ac80f8",
   "metadata": {},
   "source": [
    "\n",
    "<body style=\"font-family: Arial, sans-serif; background-color: #D9EDF7; margin: 0; padding: 0; width:100%; scroll-behavior: smooth;\">\n",
    "\n",
    "<div style=\"width: 100%; margin: 20px auto; padding: 20px; background-color: #D9EDF7;\">\n",
    "  <h1 style=\"font-size: 36px; color: #333; margin-bottom: 20px; \">Pandas Data Processing</h1>\n",
    "\n",
    "  <h2 style=\"font-size: 24px; color: #666; margin-bottom: 10px; color:#3183BB\">Basic Functionality</h2>\n",
    "  <ul style=\"list-style-type: none; margin: 0; padding: 0;\">\n",
    "      <a href=\"#section1\" style=\"text-decoration:none\"> <li style=\"margin-bottom: 10px;\">Head and Tail</li></a>\n",
    "      <a href=\"#section2\" style=\"text-decoration:none\"> <li style=\"margin-bottom: 10px;\">Attributes and the raw values</li></a>\n",
    "   <a href=\"#section3\" style=\"text-decoration:none\"> <li style=\"margin-bottom: 10px;\">Descriptive statistics</li></a>\n",
    "    <a href=\"#section4\" style=\"text-decoration:none\"><li style=\"margin-bottom: 10px;\">Summarizing data: describe</li></a>\n",
    "   <a href=\"#section5\" style=\"text-decoration:none\"> <li style=\"margin-bottom: 10px;\">Index of Min/Max Values</li></a>\n",
    "   <a href=\"#section6\" style=\"text-decoration:none\"> <li style=\"margin-bottom: 10px;\">Value counts (histogramming) / Mode</li></a>\n",
    "   <a href=\"#section7\" style=\"text-decoration:none\"> <li style=\"margin-bottom: 10px;\">Discretization and quantiling</li></a>\n",
    "  </ul>\n",
    "\n",
    "  <h2 style=\"font-size: 24px; color: #666; margin-bottom: 10px; color:#3183BB\">Function Application</h2>\n",
    "  <ul style=\"list-style-type: none; margin: 0; padding: 0;\">\n",
    "  <a href=\"#section8\" style=\"text-decoration:none\">  <li style=\"margin-bottom: 10px;\">Row or Column-wise Function Application</li></a>\n",
    "   <a href=\"#section9\" style=\"text-decoration:none\"> <li style=\"margin-bottom: 10px;\">Applying elementwise Python functions</li>\n",
    "      </a></ul>\n",
    "    <section style= \"position: absolute; bottom:0;right:0; opacity:0.3; \">By:Krishna Panthi</section>\n",
    "</div>\n",
    "    \n",
    "    \n",
    "</body>"
   ]
  },
  {
   "cell_type": "markdown",
   "id": "e51c9d74",
   "metadata": {},
   "source": [
    "<img src=\"DP.png\">"
   ]
  },
  {
   "cell_type": "markdown",
   "id": "bc814258",
   "metadata": {},
   "source": [
    "### Basic Functionality"
   ]
  },
  {
   "cell_type": "markdown",
   "id": "2225acc6",
   "metadata": {},
   "source": [
    "<div class=\"alert alert-block alert-info\">\n",
    "<div id=\"section1\"><b>Head and Tail</b></div>\n",
    "<p>To view a small sample of a Series or DataFrame object, use the head() and tail() methods. The default number of elements to display is five, but you may pass a custom number.</p></div>"
   ]
  },
  {
   "cell_type": "code",
   "execution_count": null,
   "id": "3b0cc1ba",
   "metadata": {},
   "outputs": [],
   "source": [
    "#Importing numpy and Pandas libs\n",
    "import numpy as np\n",
    "import pandas as pd"
   ]
  },
  {
   "cell_type": "code",
   "execution_count": null,
   "id": "399365de",
   "metadata": {
    "scrolled": true
   },
   "outputs": [],
   "source": [
    "long_series = pd.Series(np.random.randn(1000))\n",
    "print(long_series.head())  # head() function gives the top 5 values of dataset"
   ]
  },
  {
   "cell_type": "code",
   "execution_count": null,
   "id": "cf1d9ce8",
   "metadata": {
    "scrolled": false
   },
   "outputs": [],
   "source": [
    "long_series.tail(3)  #Using Custom number as parameter in tail function"
   ]
  },
  {
   "cell_type": "markdown",
   "id": "386d8ddb",
   "metadata": {},
   "source": [
    "<div class=\"alert alert-block alert-info\">\n",
    "<div id=\"section2\"><b>Attributes and the raw values</b></div><br>\n",
    "Pandas objects have a number of attributes enabling you to access the metadata\n",
    "<b><br>shape:</b> gives the axis dimensions of the object, consistent with ndarray\n",
    "<b><br>Axis labels:<br></b>\n",
    "- Series: index (only axis) <br>\n",
    "- DataFrame: index (rows) and columns</div>"
   ]
  },
  {
   "cell_type": "code",
   "execution_count": null,
   "id": "3d9cf0ec",
   "metadata": {},
   "outputs": [],
   "source": [
    "#Some example of the different attributes\n",
    "series_data = pd.Series([10, 20, 30, 40, 50])  # Creating a Series"
   ]
  },
  {
   "cell_type": "code",
   "execution_count": null,
   "id": "443551bc",
   "metadata": {},
   "outputs": [],
   "source": [
    "print(series_data.shape)  # Output: Shape of the Series (rows, columns): (5,)"
   ]
  },
  {
   "cell_type": "code",
   "execution_count": null,
   "id": "02ea8695",
   "metadata": {},
   "outputs": [],
   "source": [
    "data1 = {'Name': ['Alice', 'Bob', 'Charlie', 'David', 'Emily'],    #The variable data1 is a dictionary data type in Python\n",
    "        'Age': [25, 30, 35, 40, 45],\n",
    "        'Gender': ['Female', 'Male', 'Male', 'Male', 'Female']}"
   ]
  },
  {
   "cell_type": "code",
   "execution_count": null,
   "id": "44dd13fc",
   "metadata": {},
   "outputs": [],
   "source": [
    "my_df = pd.DataFrame(data1)\n",
    "print(my_df)"
   ]
  },
  {
   "cell_type": "code",
   "execution_count": null,
   "id": "1afc91fe",
   "metadata": {},
   "outputs": [],
   "source": [
    "df_shape = my_df.shape # Using the shape attribute to get the dimensions\n",
    "df_shape"
   ]
  },
  {
   "cell_type": "code",
   "execution_count": null,
   "id": "cbb51a4f",
   "metadata": {},
   "outputs": [],
   "source": [
    "df_index = my_df.index  # Output: Index of the DataFrame (axis label for rows): RangeIndex(start=0, stop=5, step=1)\n",
    "df_columns = my_df.columns # Output: Columns of the DataFrame (axis label for columns)\n",
    "df_columns"
   ]
  },
  {
   "cell_type": "markdown",
   "id": "2d9ce349",
   "metadata": {},
   "source": [
    "<div class=\"alert alert-block alert-success\">  \n",
    "<b>Output:</b> Shape of the DataFrame (rows, columns): (5, 3)  \n",
    "</div>"
   ]
  },
  {
   "cell_type": "code",
   "execution_count": null,
   "id": "72e41244",
   "metadata": {},
   "outputs": [],
   "source": [
    "series_data = pd.Series([10, 20, 30, 40, 50])\n",
    "series_index = series_data.index   # Accessing axis labels (index for Series, index and columns for DataFrame)\n",
    "series_index\n",
    "#series_data"
   ]
  },
  {
   "cell_type": "markdown",
   "id": "22d27772",
   "metadata": {},
   "source": [
    "<div class=\"alert alert-block alert-info\">\n",
    "<div id=\"section3\"><b>Descriptive statistics</b></div><br>\n",
    "A large number of methods for computing descriptive statistics and other related operations on Series and DataFrame.\n",
    "<b><br>Series:</b>no axis argument needed\n",
    "<b><br>DataFrame:</b>“index” (axis=0, default), “columns” (axis=1)"
   ]
  },
  {
   "cell_type": "code",
   "execution_count": null,
   "id": "e7329754",
   "metadata": {},
   "outputs": [],
   "source": [
    "#Perform mean function \n",
    "series_mean = series_data.mean() \n",
    "series_mean"
   ]
  },
  {
   "cell_type": "code",
   "execution_count": null,
   "id": "7bc61b78",
   "metadata": {},
   "outputs": [],
   "source": [
    "#Perform sum function\n",
    "arr1= np.array([[2,3,4,5,3,2],[2,3,2,6,7,3]])\n",
    "my_df2 = pd.DataFrame(arr1)  # Create a DataFrame from the array\n",
    "\n",
    "column_sum = my_df2.sum(axis=0)  # Calculate the sum of columns (axis 0)\n",
    "\n",
    "row_sum = my_df2.sum(axis=1) # Calculate the sum of rows (axis 1)\n",
    "\n",
    "total_sum = my_df2.values.sum()  # Calculate the sum of all elements\n",
    "\n",
    "print(column_sum)\n",
    "print(row_sum)\n",
    "print(total_sum)"
   ]
  },
  {
   "cell_type": "code",
   "execution_count": null,
   "id": "c2c85780",
   "metadata": {},
   "outputs": [],
   "source": [
    "\"\"\"\n",
    "In Pandas, the skipna parameter in the sum() function determines whether \n",
    "to exclude missing values (NaN values) when computing the sum of elements\n",
    "in a Series or DataFrame.\n",
    "\"\"\"\n",
    "mydata2 = pd.Series([1, 2, np.nan, 4, 5])\n",
    "sum_with_nan = mydata2.sum(skipna=False)\n",
    "sum_without_nan = mydata2.sum(skipna=True)\n",
    "print(\"Sum with NaN (skipna=False):\", sum_with_nan)  \n",
    "print(\"Sum without NaN (skipna=True):\", sum_without_nan)"
   ]
  },
  {
   "cell_type": "markdown",
   "id": "45ba3e19",
   "metadata": {},
   "source": [
    "<div class=\"alert alert-block alert-success\">  \n",
    "<b>Output:</b> Sum with NaN (skipna=False): nan\n",
    "<br><b>Output:</b> Sum without NaN (skipna=True): 12.0\n",
    "</div>"
   ]
  },
  {
   "cell_type": "markdown",
   "id": "92c89cea",
   "metadata": {},
   "source": [
    "<div class=\"alert alert-block alert-info\">\n",
    "<div id=\"section4\"><b>Summarizing data</b></div><br>\n",
    "There is a convenient describe() function which computes a variety of summary statistics about a Series or the columns of a DataFrame"
   ]
  },
  {
   "cell_type": "code",
   "execution_count": null,
   "id": "2151aabc",
   "metadata": {},
   "outputs": [],
   "source": [
    "my_df2.describe()"
   ]
  },
  {
   "cell_type": "markdown",
   "id": "e8c9ac25",
   "metadata": {},
   "source": [
    "<div class=\"alert alert-block alert-info\">\n",
    "<div id=\"section5\"><b>Index of Min/Max Values</b></div><br>\n",
    "The idxmin() and idxmax() functions on Series and DataFrame compute the index labels with the minimum and maximum corresponding values"
   ]
  },
  {
   "cell_type": "code",
   "execution_count": null,
   "id": "9f15aa48",
   "metadata": {},
   "outputs": [],
   "source": [
    "mydata3 = {'Name': ['Alice', 'Bob', 'Charlie', 'David'],\n",
    "        'Score': [85, 92, 78, 95]}\n",
    "mydf3 = pd.DataFrame(mydata3)\n",
    "mydf3"
   ]
  },
  {
   "cell_type": "code",
   "execution_count": null,
   "id": "0d1cac49",
   "metadata": {},
   "outputs": [],
   "source": [
    "min_score_index = mydf3['Score'].idxmin()                        # Finding the index label with the minimum score\n",
    "print(\"Index label with the minimum score:\", min_score_index)\n",
    "\n",
    "max_score_index = mydf3['Score'].idxmax()                         # Finding the index label with the maximum score\n",
    "print(\"Index label with the maximum score:\", max_score_index)"
   ]
  },
  {
   "cell_type": "markdown",
   "id": "e73ea15d",
   "metadata": {},
   "source": [
    "<div class=\"alert alert-block alert-info\">\n",
    "<div id=\"section6\"><b>Value counts (histogramming) / Mode</b></div><br>\n",
    "The value_counts() Series method and top-level function computes a histogram of a 1D array of values.\n"
   ]
  },
  {
   "cell_type": "code",
   "execution_count": null,
   "id": "69679e30",
   "metadata": {},
   "outputs": [],
   "source": [
    "#The value_counts() function in Pandas is used to count the occurrences of unique values in a Series.\n",
    "mydata4= np.array([2,3,4,2,1,5,2,6,9,7,8,4,7,3,2,3,98,3,4,5,2,5]) \n",
    "mydf4 = pd.DataFrame(mydata4)\n",
    "mydf4.value_counts()"
   ]
  },
  {
   "cell_type": "markdown",
   "id": "4fce07c9",
   "metadata": {},
   "source": [
    "<div class=\"alert alert-block alert-info\">\n",
    "<div id=\"section7\"><b>Discretization and quantiling</b></div><br>\n",
    "Continuous values can be discretized using the cut() (bins based on values) and qcut() (bins based on sample quantiles) functions\n",
    "<ur><li>The cut() function is used to discretize continuous data into intervals (bins) based on specific values.</li>\n",
    "<li>The qcut() function is used to discretize continuous data into intervals (bins) based on sample quantiles.</li></ur> </div>"
   ]
  },
  {
   "cell_type": "code",
   "execution_count": null,
   "id": "24806ba0",
   "metadata": {},
   "outputs": [],
   "source": [
    "mydata5= data = {'Name': ['Alice', 'Bob', 'Charlie', 'David', 'Emily', 'Frank', 'Gina'],\n",
    "        'Age': [22, 34, 28, 31, 25, 39, 45]}\n",
    "mydf5 = pd.DataFrame(mydata5)"
   ]
  },
  {
   "cell_type": "code",
   "execution_count": null,
   "id": "19a1ad57",
   "metadata": {},
   "outputs": [],
   "source": [
    "# Discretize ages using cut() into three age groups: Young, Middle-aged, and Elderly\n",
    "age_bins = [0, 30, 40, float('inf')]  # Define bins based on values\n",
    "age_labels = ['Young', 'Middle-aged', 'Elderly']\n",
    "mydf5['Age_Group'] = pd.cut(mydf5['Age'], bins=age_bins, labels=age_labels)\n",
    "print(mydf5)"
   ]
  },
  {
   "cell_type": "code",
   "execution_count": null,
   "id": "c808c624",
   "metadata": {},
   "outputs": [],
   "source": [
    "# Discretize ages using qcut() into three quantile-based age groups\n",
    "quantile_labels = ['Group 1', 'Group 2', 'Group 3']\n",
    "mydf5['Age_Quantile_Group'] = pd.qcut(mydf5['Age'], q=3, labels=quantile_labels)\n",
    "print(mydf5)"
   ]
  },
  {
   "cell_type": "markdown",
   "id": "08ca22bb",
   "metadata": {},
   "source": [
    "### Function Application"
   ]
  },
  {
   "cell_type": "markdown",
   "id": "82bfaee8",
   "metadata": {},
   "source": [
    "<div class=\"alert alert-block alert-info\">\n",
    "<div id=\"section8\"><b>Row or Column-wise Function Application</b></div><br>\n",
    "Arbitrary functions can be applied along the axes of a DataFrame using the apply() method, which, like the descriptive statistics methods, take an optional axis argument"
   ]
  },
  {
   "cell_type": "code",
   "execution_count": null,
   "id": "e1a2009f",
   "metadata": {},
   "outputs": [],
   "source": [
    "mydata6 = {'A': [1, 2, 3],     #defining a dictionary data type variable\n",
    "        'B': [4, 5, 20],\n",
    "        'C': [7, 8, 32]}\n",
    "mydf6 = pd.DataFrame(mydata6)"
   ]
  },
  {
   "cell_type": "code",
   "execution_count": null,
   "id": "6d744c35",
   "metadata": {},
   "outputs": [],
   "source": [
    "# Define a custom function to calculate the difference between the maximum and minimum values in a Series\n",
    "def difference_max_min(series):\n",
    "    return series.max() - series.min()"
   ]
  },
  {
   "cell_type": "code",
   "execution_count": null,
   "id": "6d2e8f37",
   "metadata": {},
   "outputs": [],
   "source": [
    "# Apply the custom function along the rows (axis=0) of the DataFrame\n",
    "row_difference = mydf6.apply(difference_max_min, axis=0)\n",
    "print(\"Difference between max and min values along rows (axis=0):\")\n",
    "print(row_difference)"
   ]
  },
  {
   "cell_type": "code",
   "execution_count": null,
   "id": "69c7e5da",
   "metadata": {},
   "outputs": [],
   "source": [
    "# Apply the custom function along the columns (axis=1) of the DataFrame\n",
    "column_difference = mydf6.apply(difference_max_min, axis=1)\n",
    "print(\"Difference between max and min values along columns (axis=1):\")\n",
    "print(column_difference)"
   ]
  },
  {
   "cell_type": "markdown",
   "id": "018cb101",
   "metadata": {},
   "source": [
    "<div class=\"alert alert-block alert-info\">\n",
    "<div id=\"section9\"><b>Applying elementwise Python functions</b></div><br>\n",
    "Since not all functions can be vectorized (accept NumPy arrays and return another array or value), the methods applymap() on DataFrame and analogously map() on Series accept any Python function taking a single value and returning a single value."
   ]
  },
  {
   "cell_type": "code",
   "execution_count": null,
   "id": "4b7d5a65",
   "metadata": {},
   "outputs": [],
   "source": [
    "def square(x):\n",
    "    return x ** 2"
   ]
  },
  {
   "cell_type": "code",
   "execution_count": null,
   "id": "43badf74",
   "metadata": {},
   "outputs": [],
   "source": [
    "result_df = mydf6.applymap(square)\n",
    "print(mydf6)\n",
    "result_df\n",
    "print(result_df)"
   ]
  },
  {
   "cell_type": "code",
   "execution_count": null,
   "id": "820636f6",
   "metadata": {},
   "outputs": [],
   "source": []
  }
 ],
 "metadata": {
  "kernelspec": {
   "display_name": "Python 3 (ipykernel)",
   "language": "python",
   "name": "python3"
  },
  "language_info": {
   "codemirror_mode": {
    "name": "ipython",
    "version": 3
   },
   "file_extension": ".py",
   "mimetype": "text/x-python",
   "name": "python",
   "nbconvert_exporter": "python",
   "pygments_lexer": "ipython3",
   "version": "3.11.5"
  }
 },
 "nbformat": 4,
 "nbformat_minor": 5
}
