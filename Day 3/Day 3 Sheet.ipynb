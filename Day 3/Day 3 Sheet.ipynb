{
 "cells": [
  {
   "cell_type": "code",
   "execution_count": 1,
   "id": "8177c0d5",
   "metadata": {},
   "outputs": [],
   "source": [
    "import numpy as np"
   ]
  },
  {
   "cell_type": "code",
   "execution_count": 3,
   "id": "6cf1dcde",
   "metadata": {},
   "outputs": [
    {
     "data": {
      "text/plain": [
       "array([0., 0., 0.])"
      ]
     },
     "execution_count": 3,
     "metadata": {},
     "output_type": "execute_result"
    }
   ],
   "source": [
    "arr1= np.zeros(3)\n",
    "arr1"
   ]
  },
  {
   "cell_type": "code",
   "execution_count": 11,
   "id": "b9ffc330",
   "metadata": {},
   "outputs": [
    {
     "data": {
      "text/plain": [
       "3"
      ]
     },
     "execution_count": 11,
     "metadata": {},
     "output_type": "execute_result"
    }
   ],
   "source": [
    "arr2D= np.array([\n",
    "    \n",
    "     [ \n",
    "         [2,3,4],[2,7,4]\n",
    "     ],\n",
    "    \n",
    "    \n",
    "    [\n",
    "        [2,3,2],[5,2,5]\n",
    "    ],\n",
    "    \n",
    "    [\n",
    "        [3,2,4],[2,5,2]\n",
    "    ]\n",
    "])\n",
    "arr2D.shape\n",
    "\n",
    "arr2= np.array([[[2,3,4],[5,6,7],[8,9,10]]])\n",
    "arr2.ndim"
   ]
  },
  {
   "cell_type": "markdown",
   "id": "5d150bb0",
   "metadata": {},
   "source": [
    "### Learning about dimensions arrays in numpy"
   ]
  },
  {
   "cell_type": "code",
   "execution_count": 13,
   "id": "48461bc5",
   "metadata": {},
   "outputs": [
    {
     "data": {
      "text/plain": [
       "(1, 2, 8)"
      ]
     },
     "execution_count": 13,
     "metadata": {},
     "output_type": "execute_result"
    }
   ],
   "source": [
    "arr3= np.array([\n",
    "    [\n",
    "        [2,4,5,3,1,8,6,2],\n",
    "        [4,7,4,5,7,3,4,5]\n",
    "    ]\n",
    "])\n",
    "arr3.shape"
   ]
  },
  {
   "cell_type": "code",
   "execution_count": 26,
   "id": "05fac353",
   "metadata": {},
   "outputs": [
    {
     "name": "stdout",
     "output_type": "stream",
     "text": [
      "[[[2 4 5 3]\n",
      "  [1 8 6 2]]\n",
      "\n",
      " [[4 7 4 5]\n",
      "  [7 3 4 5]]]\n"
     ]
    }
   ],
   "source": [
    "arr4= arr3.reshape(2,2,4)\n",
    "print(arr4)"
   ]
  },
  {
   "cell_type": "markdown",
   "id": "a39e82c7",
   "metadata": {},
   "source": [
    "### Shape -> (2,2,4) meaning\n",
    "#### one big threeD array, this big 3D array contains 2, twoD array (i.e. two rows)\n",
    "####  and each of these twoD array contains 4 elements in each"
   ]
  },
  {
   "cell_type": "code",
   "execution_count": 25,
   "id": "e33cbe0e",
   "metadata": {},
   "outputs": [
    {
     "data": {
      "text/plain": [
       "array([2, 4, 5, 3, 1, 8, 6, 2, 4, 7, 4, 5, 7, 3, 4, 5])"
      ]
     },
     "execution_count": 25,
     "metadata": {},
     "output_type": "execute_result"
    }
   ],
   "source": [
    "arr4.flatten()"
   ]
  },
  {
   "cell_type": "code",
   "execution_count": null,
   "id": "f0645903",
   "metadata": {},
   "outputs": [],
   "source": []
  }
 ],
 "metadata": {
  "kernelspec": {
   "display_name": "Python 3 (ipykernel)",
   "language": "python",
   "name": "python3"
  },
  "language_info": {
   "codemirror_mode": {
    "name": "ipython",
    "version": 3
   },
   "file_extension": ".py",
   "mimetype": "text/x-python",
   "name": "python",
   "nbconvert_exporter": "python",
   "pygments_lexer": "ipython3",
   "version": "3.11.5"
  }
 },
 "nbformat": 4,
 "nbformat_minor": 5
}
